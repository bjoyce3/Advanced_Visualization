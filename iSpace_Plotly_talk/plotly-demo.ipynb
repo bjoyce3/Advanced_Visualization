{
 "cells": [
  {
   "cell_type": "markdown",
   "metadata": {},
   "source": [
    "# Plotly Demonstration\n",
    "## Python Meetup, September 13th 2016\n",
    "\n",
    "If you have't already, get set up using these steps:\n",
    "1. Register for Plotly: https://plot.ly/\n",
    "2. Generate API Keys: https://plot.ly/settings/api\n",
    "3. Install Plotly  \n",
    "   ```$ sudo pip install plotly```\n",
    "   \n",
    "4. Store API keys to ~/.plotly/.credentials  \n",
    "   ```$ ipython\n",
    "   In [1] import plotly \n",
    "   In [2] plotly.tools.set_credentials_file(username='YourAccount', api_key='YourKey')\n",
    "   In [3] quit()```\n",
    "\n"
   ]
  },
  {
   "cell_type": "code",
   "execution_count": null,
   "metadata": {
    "collapsed": false
   },
   "outputs": [],
   "source": [
    "import plotly.plotly as py        # plotly.plotly handles all connections to Plotly servers.\n",
    "import plotly.offline as pyo      # plotly.offline handles offline plotting requests.\n",
    "from plotly.graph_objs import *   # plotly.graph_objs holds components used for construcing plots.\n",
    "\n",
    "pyo.init_notebook_mode()          # initialize ipython plotting"
   ]
  },
  {
   "cell_type": "code",
   "execution_count": null,
   "metadata": {
    "collapsed": false
   },
   "outputs": [],
   "source": [
    "import pandas as pd\n",
    "from math import log10"
   ]
  },
  {
   "cell_type": "markdown",
   "metadata": {},
   "source": [
    "## Example \\#1: Synonymous Mutation's Plot (\"Ks Plot\")\n",
    "\n",
    "### Introduction\n",
    "When translating RNA (four bases) to protein (20 amino acids/AA), RNA is read in sets of 3, where each triplet encodes one AA (or a start/stop signal). You might immediately recognize a discrepency here - 4^3 = 64 unique triplets, but only 20 amino acids. As such, some triplets encode the same AA. If a DNA mutation occurs such that the new triplet encodes the SAME amino acid, its know as 'synonymous' (or 'silent'), because the final product remains unchanged. Conversely, if a mutation changes the encoding to a NEW amino acid, it is known as 'non-synonymous'. In theory, because synonymous mutations do not change the final product, they are not subject to selection, and can accumulate in a manner roughly linear with elapsed time. By comparing two duplicate genes ('homologs'), it is possible to roughly assess the age of the duplication event by counting the number of synonymous mutations per synonymous site.\n",
    "\n",
    "### Goals:\n",
    "1. Understand extracting data from a structured, but non-specific txt file using Python.\n",
    "2. Understand how to create a histogram using Plotly.\n",
    "3. Understand offline plotting with Plotly.\n",
    "4. Demonstrate how transformations can illuminate different patterns within data.\n",
    "\n",
    "### Initial Steps:\n",
    "1. Visit https://genomevolution.org/r/lg3t\n",
    "2. Download Raw Data  \n",
    "   \"__Links and Downloads__ click here to see more...\" -> \"\tResults with synonymous/non-synonymous rate values\"\n",
    "3. Rename file to \"mutation-data.txt\" (for simplicity's sake)"
   ]
  },
  {
   "cell_type": "code",
   "execution_count": null,
   "metadata": {
    "collapsed": false
   },
   "outputs": [],
   "source": [
    "# Load Data & Extract Desired Info\n",
    "\n",
    "# In this example, all we are intersted in is the Ks values, which are stored in the first column. Unfortunately, \n",
    "# our data is not really organized into columns, so we need to explicitly parse the lines to extract it.\n",
    "ks_values = []\n",
    "with open('mutation-data.txt', 'r') as mut_in:\n",
    "    for line in mut_in:\n",
    "        line = line.strip()          # remove leading/trailing white space & new line charactars.\n",
    "        if len(line) == 0:           # skip empty lines.\n",
    "            pass\n",
    "        elif line[0] == '#':         # skip comment lines.\n",
    "            pass\n",
    "        else:\n",
    "            line = line.split()      # split line on white space.\n",
    "            try:\n",
    "                ks = float(line[0])  # get Ks data by index (see mutation-data.txt headers), convert to float.\n",
    "                ks_values.append(ks) # add to our values list.\n",
    "            except ValueError:    \n",
    "                pass                 # skip if value is 'NA'."
   ]
  },
  {
   "cell_type": "code",
   "execution_count": null,
   "metadata": {
    "collapsed": false
   },
   "outputs": [],
   "source": [
    "# Define Plotly Data() object\n",
    "ks_data = Histogram(x=ks_values,        # populate Histogram() X values with our Ks values.\n",
    "                   histnorm='percent')  # normalize so y axis shows bin's percentage of total.\n",
    "ks_data = Data([ks_data])               # compile into a data object."
   ]
  },
  {
   "cell_type": "code",
   "execution_count": null,
   "metadata": {
    "collapsed": true
   },
   "outputs": [],
   "source": [
    "# Define Plotly Layout() object\n",
    "ks_layout = Layout(title=\"Synonymous Mutations in Syntenic Gene Pairs<br>Maize & Sorghum\",  # set plot title.\n",
    "                  xaxis=dict(title=\"Synonymous Mutations/Synonymous Site\"),                 # set x-axis label.\n",
    "                  yaxis=dict(title=\"% of Syntenic Gene Pairs\"))                             # set y-axis label."
   ]
  },
  {
   "cell_type": "code",
   "execution_count": null,
   "metadata": {
    "collapsed": false
   },
   "outputs": [],
   "source": [
    "# Assemble Data() and Layout() into a Figure()\n",
    "ks_figure = Figure(data=ks_data, layout=ks_layout)"
   ]
  },
  {
   "cell_type": "code",
   "execution_count": null,
   "metadata": {
    "collapsed": false
   },
   "outputs": [],
   "source": [
    "# Create an offline plot\n",
    "pyo.plot(ks_figure, filename=\"ks-plot.html\")"
   ]
  },
  {
   "cell_type": "code",
   "execution_count": null,
   "metadata": {
    "collapsed": false
   },
   "outputs": [],
   "source": [
    "# Log10-transform our data\n",
    "logks_values = map(log10, [k for k in ks_values if k != 0])  # skip zero values"
   ]
  },
  {
   "cell_type": "code",
   "execution_count": null,
   "metadata": {
    "collapsed": true
   },
   "outputs": [],
   "source": [
    "# Build our Data(), Layout(), and Figure() objects\n",
    "logks_data = Histogram(x=logks_values,       # populate data with our Ks values.\n",
    "                       histnorm='percent')   # display y axis as percentage of total filling bin.\n",
    "logks_data = Data([logks_data])              # compile into a data object\n",
    "\n",
    "logks_layout = Layout(title=\"Synonymous Mutations (Log10 Transformed) in Syntenic Gene Pairs<br>Maize & Sorghum\",\n",
    "                      xaxis=dict(title=\"Log10(Ks)\"),\n",
    "                      yaxis=dict(title=\"% of Syntenic Gene Pairs\"))\n",
    "\n",
    "logks_figure = Figure(data=logks_data, layout=logks_layout)"
   ]
  },
  {
   "cell_type": "code",
   "execution_count": null,
   "metadata": {
    "collapsed": false
   },
   "outputs": [],
   "source": [
    "# Create an offline iplot\n",
    "pyo.iplot(logks_figure, filename=\"logks-iplot\", show_link=False)"
   ]
  },
  {
   "cell_type": "markdown",
   "metadata": {},
   "source": [
    "## Example \\#2: Fractionation Bias Plot\n",
    "\n",
    "### Introduction\n",
    "Sometimes a species experiences an entire duplication of it's genome (known as 'polyploidy events', common in plants and rare in animals). After these events, the duplicated genome will undergo massive reduction in gene content through a process known as 'fractionation' in order to restore a state more similar to that prior to duplication.  Importantly however, the fractionation process is not random and there is often a bias as to which chromosomes retain or lose more genes. Plotting the content of duplicated genes between two species can help illuminate the non-randomness of this process. \n",
    "\n",
    "### Goals:\n",
    "1. Understand how to use CSV data in Plotly.\n",
    "2. Understand how to use Plotly with Pandas Dataframes.\n",
    "3. Understand how to create a line plot using Plotly.\n",
    "4. Understand online plotting with Plotly.\n",
    "\n",
    "### Initial Steps:\n",
    "1. Visit https://genomevolution.org/r/k7j3\n",
    "2. Download Raw Data  \n",
    "   \"__Links and Downloads__ click here to see more...\" -> \"Fractionation Bias sliding window results\"\n",
    "3. Rename file to \"fractbias-data.csv\" (again, for simplicity's sake)"
   ]
  },
  {
   "cell_type": "code",
   "execution_count": null,
   "metadata": {
    "collapsed": false
   },
   "outputs": [],
   "source": [
    "# Load data.\n",
    "fractbias_data = pd.read_csv('fractbias-data.csv', header=4)  # skip the first 4 rows because they are comments.\n",
    "print(\"Shape: \" + str(fractbias_data.shape))                  # print shape (see how much data we have!)\n",
    "fractbias_data.head()"
   ]
  },
  {
   "cell_type": "code",
   "execution_count": null,
   "metadata": {
    "collapsed": false
   },
   "outputs": [],
   "source": [
    "# Select a subset of the data for plotting.\n",
    "\n",
    "# In this case, we are going to select only target chromosome 1. To make the plot more clear, we will also remove\n",
    "# any query chromosomes that have no gene retention across the entire sliding window analysis.\n",
    "\n",
    "target_1 = fractbias_data[(fractbias_data[\"Target Chr\"] == 1)]  # select only rows for first target chromosome.\n",
    "target_1 = target_1.ix[:, target_1.sum(axis=0) > 0]             # select only columns with data.\n",
    "target_1.head()"
   ]
  },
  {
   "cell_type": "code",
   "execution_count": null,
   "metadata": {
    "collapsed": false
   },
   "outputs": [],
   "source": [
    "# Define Plotly Graph Object\n",
    "fractbias_data = []\n",
    "queries = target_1.columns[2:]         # get a list of the query chromosomes.\n",
    "for q in queries:                      # for each query, build a trace & add to our collection of data.\n",
    "    trace = Scatter(\n",
    "        x=target_1['Sliding Window (Count)'], \n",
    "        y=target_1[q],\n",
    "        name=q\n",
    "    )\n",
    "    fractbias_data.append(trace)\n",
    "fractbias_data = Data(fractbias_data)  # compile our traces into a Data() object."
   ]
  },
  {
   "cell_type": "code",
   "execution_count": null,
   "metadata": {
    "collapsed": true
   },
   "outputs": [],
   "source": [
    "# Define Plotly Layout Object\n",
    "fractbias_layout = Layout(title = \"Example Fractionation Bias<br>Target Chromosome 1\",       # set plot title\n",
    "                         xaxis = {\"title\": \"Sliding Window Position\"},                       # set x-axis label\n",
    "                         yaxis = {\"title\": \"% Retention<br>(# Syntenic Genes/Window Size)\"}) # set y-axis label"
   ]
  },
  {
   "cell_type": "code",
   "execution_count": null,
   "metadata": {
    "collapsed": true
   },
   "outputs": [],
   "source": [
    "# Assemble Data() and Layout() into a Figure()\n",
    "fractbias_fig = Figure(data=fractbias_data, layout=fractbias_layout)"
   ]
  },
  {
   "cell_type": "code",
   "execution_count": null,
   "metadata": {
    "collapsed": false
   },
   "outputs": [],
   "source": [
    "# Create an online plot on Plot.ly\n",
    "fractbias_plot_link = py.plot(fractbias_fig, filename='fractbias-plot')\n",
    "print(fractbias_plot_link)"
   ]
  },
  {
   "cell_type": "code",
   "execution_count": null,
   "metadata": {
    "collapsed": false
   },
   "outputs": [],
   "source": [
    "# Create an online, but inline 'iplot'\n",
    "py.iplot(fractbias_fig, filename='fractbias-iplot')"
   ]
  },
  {
   "cell_type": "code",
   "execution_count": null,
   "metadata": {
    "collapsed": true
   },
   "outputs": [],
   "source": []
  }
 ],
 "metadata": {
  "kernelspec": {
   "display_name": "Python 2",
   "language": "python",
   "name": "python2"
  },
  "language_info": {
   "codemirror_mode": {
    "name": "ipython",
    "version": 2
   },
   "file_extension": ".py",
   "mimetype": "text/x-python",
   "name": "python",
   "nbconvert_exporter": "python",
   "pygments_lexer": "ipython2",
   "version": "2.7.11"
  }
 },
 "nbformat": 4,
 "nbformat_minor": 1
}
